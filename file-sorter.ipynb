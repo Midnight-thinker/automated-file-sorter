{
 "cells": [
  {
   "cell_type": "markdown",
   "id": "7fe3eb32",
   "metadata": {},
   "source": [
    "# Automated File Sorter Project\n",
    "\n",
    "In this project we're going to take a directory and automatically detect the file type using the code and later we're going to make a folder for each file type and automatically move the files to the respecctive folder type."
   ]
  },
  {
   "cell_type": "markdown",
   "id": "977c1e6e",
   "metadata": {},
   "source": [
    "### Importing the libraries necessary for this project:"
   ]
  },
  {
   "cell_type": "code",
   "execution_count": 1,
   "id": "72024a56",
   "metadata": {},
   "outputs": [],
   "source": [
    "import os,shutil"
   ]
  },
  {
   "cell_type": "markdown",
   "id": "91f83195",
   "metadata": {},
   "source": [
    "### Defining the path in which we're going to perform the operation"
   ]
  },
  {
   "cell_type": "code",
   "execution_count": 2,
   "id": "58498fab",
   "metadata": {},
   "outputs": [],
   "source": [
    "path=r\"C:/Users/91943/Desktop/Personal docs/\""
   ]
  },
  {
   "cell_type": "markdown",
   "id": "5f0c7644",
   "metadata": {},
   "source": [
    "### Having a look at the list of files present in the directory with which we're going to work on:"
   ]
  },
  {
   "cell_type": "code",
   "execution_count": 5,
   "id": "c9cf6b38",
   "metadata": {},
   "outputs": [
    {
     "data": {
      "text/plain": [
       "['college id.jpg',\n",
       " 'Debasmita Chakraborty.docx',\n",
       " 'new adhar.jpg',\n",
       " 'old adhar back page.jpg',\n",
       " 'old adhar front page.jpg',\n",
       " 'old pan.jpg',\n",
       " 'passbook.jpg',\n",
       " 'Profile Resume (1).pdf',\n",
       " 'Profile.csv',\n",
       " 'recent photo.jpg',\n",
       " 'Resume (1).pdf',\n",
       " 'updated resume.png']"
      ]
     },
     "execution_count": 5,
     "metadata": {},
     "output_type": "execute_result"
    }
   ],
   "source": [
    "file_name=os.listdir(path)\n",
    "file_name"
   ]
  },
  {
   "cell_type": "markdown",
   "id": "a75773c4",
   "metadata": {},
   "source": [
    "### Setting a list for folders and using a list to check if the folder we're going to make for the sort already exists or not and thereafter creating the folder"
   ]
  },
  {
   "cell_type": "code",
   "execution_count": 10,
   "id": "c5368da4",
   "metadata": {},
   "outputs": [],
   "source": [
    "folders= [\"csv files\",\"jpg files\",\"pdf files\",\"docx files\"]\n",
    "\n",
    "for folder in range(0,4):\n",
    "    if not os.path.exists(path + folders[folder]):\n",
    "        os.makedirs(path + folders[folder])"
   ]
  },
  {
   "cell_type": "markdown",
   "id": "157ca6c2",
   "metadata": {},
   "source": [
    "### If the folder doesn't exists we're going to move the file of different types to their respective folders:"
   ]
  },
  {
   "cell_type": "code",
   "execution_count": 21,
   "id": "541bd80d",
   "metadata": {},
   "outputs": [],
   "source": [
    "for file in file_name:\n",
    "    if \".csv\" in file and not os.path.exists(path + \"csv files\" + file):\n",
    "        shutil.move(path + file, path + \"csv files/\" + file)\n",
    "    if \".jpg\" in file and not os.path.exists(path + \"jpg files\" + file):\n",
    "        shutil.move(path + file, path + \"jpg files/\" + file)\n",
    "    if \".pdf\" in file and not os.path.exists(path + \"pdf files\" + file):\n",
    "        shutil.move(path + file, path + \"pdf files/\" + file)\n",
    "    if \".docx\" in file and not os.path.exists(path + \"docx files\" + file):\n",
    "        shutil.move(path + file, path + \"docx files/\" + file)"
   ]
  }
 ],
 "metadata": {
  "kernelspec": {
   "display_name": "Python 3 (ipykernel)",
   "language": "python",
   "name": "python3"
  },
  "language_info": {
   "codemirror_mode": {
    "name": "ipython",
    "version": 3
   },
   "file_extension": ".py",
   "mimetype": "text/x-python",
   "name": "python",
   "nbconvert_exporter": "python",
   "pygments_lexer": "ipython3",
   "version": "3.10.9"
  }
 },
 "nbformat": 4,
 "nbformat_minor": 5
}
